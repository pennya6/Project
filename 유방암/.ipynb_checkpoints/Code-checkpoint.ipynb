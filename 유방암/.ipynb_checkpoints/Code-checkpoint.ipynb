{
 "cells": [
  {
   "cell_type": "markdown",
   "metadata": {
    "id": "Y8TtcnLszmW2"
   },
   "source": [
    "# 유방암의 임파선 전이 예측 AI 경진 대회\n",
    "https://dacon.io/competitions/official/236011/talkboard/407176?page=1&dtype=recent\n",
    "## 배경지식\n",
    "+ 림프절은 암의 전이, 퍼지는데 치명적인 원인\n",
    "+ 림프절 전이 여부에 따라 치료와 예후가 달라짐\n",
    "+ 림프절 전이 여부와 전이 단계 파악이 핵심적인 역할\n",
    "## 제공 데이터\n",
    "+ 유방암 병리 슬라이드 영상\n",
    "+ 임상 항목 데이터\n",
    "## 주제\n",
    "+ 유방암 병리 슬라이드 영상과 임상 항목을 조합하여 유방암의 임파선 전이 여부 이진 분류\n",
    "## 데이터 이해\n",
    "+ ID : 부여번호\n",
    "+ img_path \n",
    "+ mask_path\n",
    "+ 나이 : 진단시 나이\n",
    "+ 수술연월일 : 연-월-일\n",
    "+ 진단명 : 1-ductal, 2-lobular, 3-mucinous, 4-other\n",
    "+ 암의 위치 : 1-right, 2-left, 3-both\n",
    "+ 암의 개수 : 1-single, 2-multiple\n",
    "+ NG : 핵의 모양 ,1-핵모양 정상, 2-중간, 3-이상\n",
    "+ HG : 1-(scores of 3, 4, or 5): 조직학적 분화도가 좋아 전체적으로 합산 점수가 낮은 경우,\n",
    "2-(scores of 6 or 7), 3-(scores of 8 or 9) : 조직학적 분화도가 나빠서 합산점수가 큰 경우  \n",
    "4: Only microinvasion present (not graded)\n",
    "+ HG_score_1 : \n",
    "+ HG_score_2\n",
    "+ HG_score_3\n",
    "+ DCIS or LCIS 여부 : 제자리암종(DCIS) 유무\n",
    "+ DCIS or LCIS_type : 제자리암종내 괴사 유무\n",
    "+ T_category\n",
    "+ ER : 여성호르몬중 에스트로겐 수용체 발현 여부\n",
    "+ ER_Allred_score\n",
    "+ PR : 여성호르몬 중 프로게스테론 수용체 발현 여부\n",
    "+ PR_Allred_score \n",
    "+ KI-67_LI_percent : 세포증식 수치\n",
    "+ HER2 : 세포성장, 수용체 발현여부 표시 0- -, 1- +\n",
    "+ HER2_IHC\n",
    "+ HER2_SISH : \n",
    "+ HER2_SISH_ratio : 소수점 첫째자리 숫자 기입\n",
    "+ N_category : 0-전이 X, 1-전이 O\n",
    "\n",
    "\n"
   ]
  },
  {
   "cell_type": "code",
   "execution_count": 1,
   "metadata": {
    "id": "4iDIj7mozStB"
   },
   "outputs": [
    {
     "name": "stderr",
     "output_type": "stream",
     "text": [
      "C:\\Users\\User\\anaconda3\\lib\\site-packages\\scipy\\__init__.py:138: UserWarning: A NumPy version >=1.16.5 and <1.23.0 is required for this version of SciPy (detected version 1.23.3)\n",
      "  warnings.warn(f\"A NumPy version >={np_minversion} and <{np_maxversion} is required for this version of \"\n"
     ]
    }
   ],
   "source": [
    "import os \n",
    "import io\n",
    "import zipfile\n",
    "from zipfile import ZipFile\n",
    "import pandas as pd\n",
    "import requests\n",
    "import tensorflow as tf\n",
    "from sklearn.model_selection import train_test_split\n",
    "from xgboost import XGBClassifier\n",
    "from sklearn.metrics import * "
   ]
  },
  {
   "cell_type": "markdown",
   "metadata": {
    "id": "obXxW2yJGbq8"
   },
   "source": [
    "### 데이터 로드 과정"
   ]
  },
  {
   "cell_type": "code",
   "execution_count": null,
   "metadata": {
    "id": "4F40G1rNFGm6"
   },
   "outputs": [],
   "source": [
    "# with zipfile.ZipFile('/content/drive/MyDrive/Project/유방암/Data/open.zip', 'r') as existing_zip:\n",
    "#     existing_zip.extractall('/content/drive/MyDrive/Project/유방암/Data/')"
   ]
  },
  {
   "cell_type": "markdown",
   "metadata": {
    "id": "TnRgWVl4GgN5"
   },
   "source": [
    "### 데이터 확인"
   ]
  },
  {
   "cell_type": "code",
   "execution_count": 2,
   "metadata": {
    "colab": {
     "base_uri": "https://localhost:8080/"
    },
    "id": "xVXuiRrm42ma",
    "outputId": "b6633f05-9751-469d-e2a7-fa6be9d10c8c"
   },
   "outputs": [
    {
     "name": "stdout",
     "output_type": "stream",
     "text": [
      "Drive already mounted at /content/drive; to attempt to forcibly remount, call drive.mount(\"/content/drive\", force_remount=True).\n"
     ]
    }
   ],
   "source": [
    "# from google.colab import drive\n",
    "# drive.mount('/content/drive')"
   ]
  },
  {
   "cell_type": "code",
   "execution_count": 2,
   "metadata": {
    "id": "T0isWotRFrpA"
   },
   "outputs": [],
   "source": [
    "data=pd.read_csv(\"data/train.csv\")"
   ]
  },
  {
   "cell_type": "code",
   "execution_count": 3,
   "metadata": {
    "colab": {
     "base_uri": "https://localhost:8080/",
     "height": 438
    },
    "id": "kRRh71BCGeDd",
    "outputId": "8fb8e347-34c6-4031-8f5f-47d36574ec99"
   },
   "outputs": [
    {
     "data": {
      "text/html": [
       "<div>\n",
       "<style scoped>\n",
       "    .dataframe tbody tr th:only-of-type {\n",
       "        vertical-align: middle;\n",
       "    }\n",
       "\n",
       "    .dataframe tbody tr th {\n",
       "        vertical-align: top;\n",
       "    }\n",
       "\n",
       "    .dataframe thead th {\n",
       "        text-align: right;\n",
       "    }\n",
       "</style>\n",
       "<table border=\"1\" class=\"dataframe\">\n",
       "  <thead>\n",
       "    <tr style=\"text-align: right;\">\n",
       "      <th></th>\n",
       "      <th>ID</th>\n",
       "      <th>img_path</th>\n",
       "      <th>mask_path</th>\n",
       "      <th>나이</th>\n",
       "      <th>수술연월일</th>\n",
       "      <th>진단명</th>\n",
       "      <th>암의 위치</th>\n",
       "      <th>암의 개수</th>\n",
       "      <th>암의 장경</th>\n",
       "      <th>NG</th>\n",
       "      <th>...</th>\n",
       "      <th>ER_Allred_score</th>\n",
       "      <th>PR</th>\n",
       "      <th>PR_Allred_score</th>\n",
       "      <th>KI-67_LI_percent</th>\n",
       "      <th>HER2</th>\n",
       "      <th>HER2_IHC</th>\n",
       "      <th>HER2_SISH</th>\n",
       "      <th>HER2_SISH_ratio</th>\n",
       "      <th>BRCA_mutation</th>\n",
       "      <th>N_category</th>\n",
       "    </tr>\n",
       "  </thead>\n",
       "  <tbody>\n",
       "    <tr>\n",
       "      <th>0</th>\n",
       "      <td>BC_01_0001</td>\n",
       "      <td>./train_imgs/BC_01_0001.png</td>\n",
       "      <td>-</td>\n",
       "      <td>63</td>\n",
       "      <td>2015-10-23</td>\n",
       "      <td>1</td>\n",
       "      <td>2</td>\n",
       "      <td>1</td>\n",
       "      <td>19.0</td>\n",
       "      <td>2.0</td>\n",
       "      <td>...</td>\n",
       "      <td>8.0</td>\n",
       "      <td>1.0</td>\n",
       "      <td>6.0</td>\n",
       "      <td>12.0</td>\n",
       "      <td>0.0</td>\n",
       "      <td>1.0</td>\n",
       "      <td>NaN</td>\n",
       "      <td>NaN</td>\n",
       "      <td>NaN</td>\n",
       "      <td>0</td>\n",
       "    </tr>\n",
       "    <tr>\n",
       "      <th>1</th>\n",
       "      <td>BC_01_0002</td>\n",
       "      <td>./train_imgs/BC_01_0002.png</td>\n",
       "      <td>-</td>\n",
       "      <td>51</td>\n",
       "      <td>2015-10-28</td>\n",
       "      <td>1</td>\n",
       "      <td>1</td>\n",
       "      <td>1</td>\n",
       "      <td>22.0</td>\n",
       "      <td>3.0</td>\n",
       "      <td>...</td>\n",
       "      <td>NaN</td>\n",
       "      <td>0.0</td>\n",
       "      <td>NaN</td>\n",
       "      <td>70.0</td>\n",
       "      <td>0.0</td>\n",
       "      <td>0.0</td>\n",
       "      <td>NaN</td>\n",
       "      <td>NaN</td>\n",
       "      <td>NaN</td>\n",
       "      <td>1</td>\n",
       "    </tr>\n",
       "    <tr>\n",
       "      <th>2</th>\n",
       "      <td>BC_01_0003</td>\n",
       "      <td>./train_imgs/BC_01_0003.png</td>\n",
       "      <td>-</td>\n",
       "      <td>37</td>\n",
       "      <td>2015-10-29</td>\n",
       "      <td>1</td>\n",
       "      <td>2</td>\n",
       "      <td>1</td>\n",
       "      <td>NaN</td>\n",
       "      <td>2.0</td>\n",
       "      <td>...</td>\n",
       "      <td>7.0</td>\n",
       "      <td>1.0</td>\n",
       "      <td>4.0</td>\n",
       "      <td>7.0</td>\n",
       "      <td>0.0</td>\n",
       "      <td>1.0</td>\n",
       "      <td>NaN</td>\n",
       "      <td>NaN</td>\n",
       "      <td>0.0</td>\n",
       "      <td>0</td>\n",
       "    </tr>\n",
       "    <tr>\n",
       "      <th>3</th>\n",
       "      <td>BC_01_0004</td>\n",
       "      <td>./train_imgs/BC_01_0004.png</td>\n",
       "      <td>-</td>\n",
       "      <td>54</td>\n",
       "      <td>2016-03-08</td>\n",
       "      <td>1</td>\n",
       "      <td>2</td>\n",
       "      <td>1</td>\n",
       "      <td>0.0</td>\n",
       "      <td>3.0</td>\n",
       "      <td>...</td>\n",
       "      <td>NaN</td>\n",
       "      <td>0.0</td>\n",
       "      <td>NaN</td>\n",
       "      <td>1.0</td>\n",
       "      <td>1.0</td>\n",
       "      <td>3.0</td>\n",
       "      <td>NaN</td>\n",
       "      <td>NaN</td>\n",
       "      <td>NaN</td>\n",
       "      <td>0</td>\n",
       "    </tr>\n",
       "    <tr>\n",
       "      <th>4</th>\n",
       "      <td>BC_01_0005</td>\n",
       "      <td>./train_imgs/BC_01_0005.png</td>\n",
       "      <td>-</td>\n",
       "      <td>57</td>\n",
       "      <td>2015-10-30</td>\n",
       "      <td>1</td>\n",
       "      <td>2</td>\n",
       "      <td>1</td>\n",
       "      <td>8.0</td>\n",
       "      <td>2.0</td>\n",
       "      <td>...</td>\n",
       "      <td>8.0</td>\n",
       "      <td>0.0</td>\n",
       "      <td>NaN</td>\n",
       "      <td>8.0</td>\n",
       "      <td>1.0</td>\n",
       "      <td>2.0</td>\n",
       "      <td>1.0</td>\n",
       "      <td>5.44</td>\n",
       "      <td>NaN</td>\n",
       "      <td>0</td>\n",
       "    </tr>\n",
       "  </tbody>\n",
       "</table>\n",
       "<p>5 rows × 28 columns</p>\n",
       "</div>"
      ],
      "text/plain": [
       "           ID                     img_path mask_path  나이       수술연월일  진단명  \\\n",
       "0  BC_01_0001  ./train_imgs/BC_01_0001.png         -  63  2015-10-23    1   \n",
       "1  BC_01_0002  ./train_imgs/BC_01_0002.png         -  51  2015-10-28    1   \n",
       "2  BC_01_0003  ./train_imgs/BC_01_0003.png         -  37  2015-10-29    1   \n",
       "3  BC_01_0004  ./train_imgs/BC_01_0004.png         -  54  2016-03-08    1   \n",
       "4  BC_01_0005  ./train_imgs/BC_01_0005.png         -  57  2015-10-30    1   \n",
       "\n",
       "   암의 위치  암의 개수  암의 장경   NG  ...  ER_Allred_score   PR  PR_Allred_score  \\\n",
       "0      2      1   19.0  2.0  ...              8.0  1.0              6.0   \n",
       "1      1      1   22.0  3.0  ...              NaN  0.0              NaN   \n",
       "2      2      1    NaN  2.0  ...              7.0  1.0              4.0   \n",
       "3      2      1    0.0  3.0  ...              NaN  0.0              NaN   \n",
       "4      2      1    8.0  2.0  ...              8.0  0.0              NaN   \n",
       "\n",
       "   KI-67_LI_percent  HER2  HER2_IHC  HER2_SISH  HER2_SISH_ratio  \\\n",
       "0              12.0   0.0       1.0        NaN              NaN   \n",
       "1              70.0   0.0       0.0        NaN              NaN   \n",
       "2               7.0   0.0       1.0        NaN              NaN   \n",
       "3               1.0   1.0       3.0        NaN              NaN   \n",
       "4               8.0   1.0       2.0        1.0             5.44   \n",
       "\n",
       "   BRCA_mutation  N_category  \n",
       "0            NaN           0  \n",
       "1            NaN           1  \n",
       "2            0.0           0  \n",
       "3            NaN           0  \n",
       "4            NaN           0  \n",
       "\n",
       "[5 rows x 28 columns]"
      ]
     },
     "execution_count": 3,
     "metadata": {},
     "output_type": "execute_result"
    }
   ],
   "source": [
    "data.head()"
   ]
  },
  {
   "cell_type": "code",
   "execution_count": 4,
   "metadata": {
    "colab": {
     "base_uri": "https://localhost:8080/"
    },
    "id": "gKbpcwsP5Jae",
    "outputId": "e1b4e505-b79f-4e20-b886-e70e45ccf443"
   },
   "outputs": [
    {
     "data": {
      "text/plain": [
       "ID                     0\n",
       "img_path               0\n",
       "mask_path              0\n",
       "나이                     0\n",
       "수술연월일                  0\n",
       "진단명                    0\n",
       "암의 위치                  0\n",
       "암의 개수                  0\n",
       "암의 장경                 69\n",
       "NG                    51\n",
       "HG                    86\n",
       "HG_score_1            92\n",
       "HG_score_2            92\n",
       "HG_score_3            89\n",
       "DCIS_or_LCIS_여부        0\n",
       "DCIS_or_LCIS_type    874\n",
       "T_category             4\n",
       "ER                     1\n",
       "ER_Allred_score      297\n",
       "PR                     1\n",
       "PR_Allred_score      453\n",
       "KI-67_LI_percent     235\n",
       "HER2                  14\n",
       "HER2_IHC              24\n",
       "HER2_SISH            753\n",
       "HER2_SISH_ratio      825\n",
       "BRCA_mutation        945\n",
       "N_category             0\n",
       "dtype: int64"
      ]
     },
     "execution_count": 4,
     "metadata": {},
     "output_type": "execute_result"
    }
   ],
   "source": [
    "data.isna().sum()"
   ]
  },
  {
   "cell_type": "code",
   "execution_count": null,
   "metadata": {
    "id": "u77VgPN8c23K"
   },
   "outputs": [],
   "source": []
  },
  {
   "cell_type": "markdown",
   "metadata": {
    "id": "1V92VE0IcFNE"
   },
   "source": [
    "### 결측치 처리 부분"
   ]
  },
  {
   "cell_type": "code",
   "execution_count": 211,
   "metadata": {
    "id": "5QHkLzEZcDhb"
   },
   "outputs": [],
   "source": [
    "data[\"암의 장경\"].fillna(data[\"암의 장경\"].mean(),inplace=True)"
   ]
  },
  {
   "cell_type": "code",
   "execution_count": 212,
   "metadata": {
    "id": "x_FEP90CcCN2"
   },
   "outputs": [],
   "source": [
    "data.NG.fillna(0,inplace=True)"
   ]
  },
  {
   "cell_type": "code",
   "execution_count": 213,
   "metadata": {
    "colab": {
     "base_uri": "https://localhost:8080/"
    },
    "id": "8xGA75EdoUYm",
    "outputId": "54c8e2e5-f713-4aca-bfcd-b1cd45e52d5f"
   },
   "outputs": [
    {
     "name": "stderr",
     "output_type": "stream",
     "text": [
      "<ipython-input-213-0c0b2eae0a05>:6: SettingWithCopyWarning: \n",
      "A value is trying to be set on a copy of a slice from a DataFrame\n",
      "\n",
      "See the caveats in the documentation: https://pandas.pydata.org/pandas-docs/stable/user_guide/indexing.html#returning-a-view-versus-a-copy\n",
      "  data[\"년\"][i]=data[\"수술연월일\"][i].year\n",
      "<ipython-input-213-0c0b2eae0a05>:7: SettingWithCopyWarning: \n",
      "A value is trying to be set on a copy of a slice from a DataFrame\n",
      "\n",
      "See the caveats in the documentation: https://pandas.pydata.org/pandas-docs/stable/user_guide/indexing.html#returning-a-view-versus-a-copy\n",
      "  data[\"월\"][i]=data[\"수술연월일\"][i].month\n",
      "<ipython-input-213-0c0b2eae0a05>:8: SettingWithCopyWarning: \n",
      "A value is trying to be set on a copy of a slice from a DataFrame\n",
      "\n",
      "See the caveats in the documentation: https://pandas.pydata.org/pandas-docs/stable/user_guide/indexing.html#returning-a-view-versus-a-copy\n",
      "  data[\"일\"][i]=data[\"수술연월일\"][i].day\n"
     ]
    }
   ],
   "source": [
    "data[\"수술연월일\"]=pd.to_datetime(data[\"수술연월일\"])\n",
    "data[\"년\"]=0\n",
    "data[\"월\"]=0\n",
    "data[\"일\"]=0\n",
    "for i in range(len(data)):\n",
    "  data[\"년\"][i]=data[\"수술연월일\"][i].year\n",
    "  data[\"월\"][i]=data[\"수술연월일\"][i].month\n",
    "  data[\"일\"][i]=data[\"수술연월일\"][i].day"
   ]
  },
  {
   "cell_type": "code",
   "execution_count": 214,
   "metadata": {
    "id": "g6EA9M5DcCGH"
   },
   "outputs": [],
   "source": [
    "data.drop([\"DCIS_or_LCIS_type\",\"BRCA_mutation\",\"HER2_SISH_ratio\",\"HER2_SISH\",\"ER_Allred_score\",\"PR_Allred_score\",\"mask_path\",\"img_path\",\"수술연월일\"],axis=1,inplace=True)"
   ]
  },
  {
   "cell_type": "code",
   "execution_count": 215,
   "metadata": {
    "id": "uA0FHFRjc2td"
   },
   "outputs": [],
   "source": [
    "data[\"KI-67_LI_percent\"].fillna(data[\"KI-67_LI_percent\"].mean(),inplace=True)"
   ]
  },
  {
   "cell_type": "code",
   "execution_count": 29,
   "metadata": {
    "id": "klYSnD81c2qs"
   },
   "outputs": [],
   "source": [
    "#data=data.dropna()"
   ]
  },
  {
   "cell_type": "code",
   "execution_count": 216,
   "metadata": {
    "colab": {
     "base_uri": "https://localhost:8080/"
    },
    "id": "CH_s4IkAc2iF",
    "outputId": "b03ad1bc-18cb-418f-eb21-e90fbbf5db2e"
   },
   "outputs": [
    {
     "name": "stderr",
     "output_type": "stream",
     "text": [
      "<ipython-input-216-0dc34220dde3>:2: SettingWithCopyWarning: \n",
      "A value is trying to be set on a copy of a slice from a DataFrame\n",
      "\n",
      "See the caveats in the documentation: https://pandas.pydata.org/pandas-docs/stable/user_guide/indexing.html#returning-a-view-versus-a-copy\n",
      "  data[\"ID\"][i]=int(data[\"ID\"][i].split(\"_\")[2])\n"
     ]
    }
   ],
   "source": [
    "for i in range(len(data)):\n",
    "  data[\"ID\"][i]=int(data[\"ID\"][i].split(\"_\")[2])"
   ]
  },
  {
   "cell_type": "code",
   "execution_count": 217,
   "metadata": {
    "id": "c6ZBHgLW5M0V"
   },
   "outputs": [],
   "source": [
    "data.fillna(0,inplace=True)"
   ]
  },
  {
   "cell_type": "code",
   "execution_count": 218,
   "metadata": {
    "colab": {
     "base_uri": "https://localhost:8080/"
    },
    "id": "aHXYmH7ipHap",
    "outputId": "fe46c810-3f59-4e69-b26c-64d18153749c"
   },
   "outputs": [
    {
     "name": "stdout",
     "output_type": "stream",
     "text": [
      "<class 'pandas.core.frame.DataFrame'>\n",
      "RangeIndex: 1000 entries, 0 to 999\n",
      "Data columns (total 22 columns):\n",
      " #   Column            Non-Null Count  Dtype  \n",
      "---  ------            --------------  -----  \n",
      " 0   ID                1000 non-null   int64  \n",
      " 1   나이                1000 non-null   int64  \n",
      " 2   진단명               1000 non-null   int64  \n",
      " 3   암의 위치             1000 non-null   int64  \n",
      " 4   암의 개수             1000 non-null   int64  \n",
      " 5   암의 장경             1000 non-null   float64\n",
      " 6   NG                1000 non-null   float64\n",
      " 7   HG                1000 non-null   float64\n",
      " 8   HG_score_1        1000 non-null   float64\n",
      " 9   HG_score_2        1000 non-null   float64\n",
      " 10  HG_score_3        1000 non-null   float64\n",
      " 11  DCIS_or_LCIS_여부   1000 non-null   int64  \n",
      " 12  T_category        1000 non-null   float64\n",
      " 13  ER                1000 non-null   float64\n",
      " 14  PR                1000 non-null   float64\n",
      " 15  KI-67_LI_percent  1000 non-null   float64\n",
      " 16  HER2              1000 non-null   float64\n",
      " 17  HER2_IHC          1000 non-null   float64\n",
      " 18  N_category        1000 non-null   int64  \n",
      " 19  년                 1000 non-null   int64  \n",
      " 20  월                 1000 non-null   int64  \n",
      " 21  일                 1000 non-null   int64  \n",
      "dtypes: float64(12), int64(10)\n",
      "memory usage: 172.0 KB\n"
     ]
    }
   ],
   "source": [
    "data.info()"
   ]
  },
  {
   "cell_type": "code",
   "execution_count": 219,
   "metadata": {
    "id": "_bytfDWZ5TjL"
   },
   "outputs": [],
   "source": [
    "X=data.drop(\"N_category\",axis=1)\n",
    "y=data.loc[:,\"N_category\"]"
   ]
  },
  {
   "cell_type": "code",
   "execution_count": 114,
   "metadata": {
    "id": "XL2VFLVE5ZkJ"
   },
   "outputs": [],
   "source": [
    "#X=pd.get_dummies(X,drop_first=True)"
   ]
  },
  {
   "cell_type": "code",
   "execution_count": 220,
   "metadata": {
    "colab": {
     "base_uri": "https://localhost:8080/",
     "height": 468
    },
    "id": "30q1FvW9mcsZ",
    "outputId": "58e3bf65-0242-4818-a6fa-14af665f9001"
   },
   "outputs": [
    {
     "data": {
      "text/html": [
       "\n",
       "  <div id=\"df-fcd9c06a-e732-47fc-80c4-e63319e74e4d\">\n",
       "    <div class=\"colab-df-container\">\n",
       "      <div>\n",
       "<style scoped>\n",
       "    .dataframe tbody tr th:only-of-type {\n",
       "        vertical-align: middle;\n",
       "    }\n",
       "\n",
       "    .dataframe tbody tr th {\n",
       "        vertical-align: top;\n",
       "    }\n",
       "\n",
       "    .dataframe thead th {\n",
       "        text-align: right;\n",
       "    }\n",
       "</style>\n",
       "<table border=\"1\" class=\"dataframe\">\n",
       "  <thead>\n",
       "    <tr style=\"text-align: right;\">\n",
       "      <th></th>\n",
       "      <th>ID</th>\n",
       "      <th>나이</th>\n",
       "      <th>진단명</th>\n",
       "      <th>암의 위치</th>\n",
       "      <th>암의 개수</th>\n",
       "      <th>암의 장경</th>\n",
       "      <th>NG</th>\n",
       "      <th>HG</th>\n",
       "      <th>HG_score_1</th>\n",
       "      <th>HG_score_2</th>\n",
       "      <th>...</th>\n",
       "      <th>DCIS_or_LCIS_여부</th>\n",
       "      <th>T_category</th>\n",
       "      <th>ER</th>\n",
       "      <th>PR</th>\n",
       "      <th>KI-67_LI_percent</th>\n",
       "      <th>HER2</th>\n",
       "      <th>HER2_IHC</th>\n",
       "      <th>년</th>\n",
       "      <th>월</th>\n",
       "      <th>일</th>\n",
       "    </tr>\n",
       "  </thead>\n",
       "  <tbody>\n",
       "    <tr>\n",
       "      <th>0</th>\n",
       "      <td>1</td>\n",
       "      <td>63</td>\n",
       "      <td>1</td>\n",
       "      <td>2</td>\n",
       "      <td>1</td>\n",
       "      <td>19.000000</td>\n",
       "      <td>2.0</td>\n",
       "      <td>1.0</td>\n",
       "      <td>2.0</td>\n",
       "      <td>2.0</td>\n",
       "      <td>...</td>\n",
       "      <td>2</td>\n",
       "      <td>1.0</td>\n",
       "      <td>1.0</td>\n",
       "      <td>1.0</td>\n",
       "      <td>12.000000</td>\n",
       "      <td>0.0</td>\n",
       "      <td>1.0</td>\n",
       "      <td>2015</td>\n",
       "      <td>10</td>\n",
       "      <td>23</td>\n",
       "    </tr>\n",
       "    <tr>\n",
       "      <th>1</th>\n",
       "      <td>2</td>\n",
       "      <td>51</td>\n",
       "      <td>1</td>\n",
       "      <td>1</td>\n",
       "      <td>1</td>\n",
       "      <td>22.000000</td>\n",
       "      <td>3.0</td>\n",
       "      <td>3.0</td>\n",
       "      <td>3.0</td>\n",
       "      <td>3.0</td>\n",
       "      <td>...</td>\n",
       "      <td>0</td>\n",
       "      <td>2.0</td>\n",
       "      <td>0.0</td>\n",
       "      <td>0.0</td>\n",
       "      <td>70.000000</td>\n",
       "      <td>0.0</td>\n",
       "      <td>0.0</td>\n",
       "      <td>2015</td>\n",
       "      <td>10</td>\n",
       "      <td>28</td>\n",
       "    </tr>\n",
       "    <tr>\n",
       "      <th>2</th>\n",
       "      <td>3</td>\n",
       "      <td>37</td>\n",
       "      <td>1</td>\n",
       "      <td>2</td>\n",
       "      <td>1</td>\n",
       "      <td>18.375564</td>\n",
       "      <td>2.0</td>\n",
       "      <td>0.0</td>\n",
       "      <td>0.0</td>\n",
       "      <td>0.0</td>\n",
       "      <td>...</td>\n",
       "      <td>1</td>\n",
       "      <td>0.0</td>\n",
       "      <td>1.0</td>\n",
       "      <td>1.0</td>\n",
       "      <td>7.000000</td>\n",
       "      <td>0.0</td>\n",
       "      <td>1.0</td>\n",
       "      <td>2015</td>\n",
       "      <td>10</td>\n",
       "      <td>29</td>\n",
       "    </tr>\n",
       "    <tr>\n",
       "      <th>3</th>\n",
       "      <td>4</td>\n",
       "      <td>54</td>\n",
       "      <td>1</td>\n",
       "      <td>2</td>\n",
       "      <td>1</td>\n",
       "      <td>0.000000</td>\n",
       "      <td>3.0</td>\n",
       "      <td>3.0</td>\n",
       "      <td>3.0</td>\n",
       "      <td>3.0</td>\n",
       "      <td>...</td>\n",
       "      <td>1</td>\n",
       "      <td>0.0</td>\n",
       "      <td>0.0</td>\n",
       "      <td>0.0</td>\n",
       "      <td>1.000000</td>\n",
       "      <td>1.0</td>\n",
       "      <td>3.0</td>\n",
       "      <td>2016</td>\n",
       "      <td>3</td>\n",
       "      <td>8</td>\n",
       "    </tr>\n",
       "    <tr>\n",
       "      <th>4</th>\n",
       "      <td>5</td>\n",
       "      <td>57</td>\n",
       "      <td>1</td>\n",
       "      <td>2</td>\n",
       "      <td>1</td>\n",
       "      <td>8.000000</td>\n",
       "      <td>2.0</td>\n",
       "      <td>2.0</td>\n",
       "      <td>3.0</td>\n",
       "      <td>2.0</td>\n",
       "      <td>...</td>\n",
       "      <td>2</td>\n",
       "      <td>1.0</td>\n",
       "      <td>1.0</td>\n",
       "      <td>0.0</td>\n",
       "      <td>8.000000</td>\n",
       "      <td>1.0</td>\n",
       "      <td>2.0</td>\n",
       "      <td>2015</td>\n",
       "      <td>10</td>\n",
       "      <td>30</td>\n",
       "    </tr>\n",
       "    <tr>\n",
       "      <th>...</th>\n",
       "      <td>...</td>\n",
       "      <td>...</td>\n",
       "      <td>...</td>\n",
       "      <td>...</td>\n",
       "      <td>...</td>\n",
       "      <td>...</td>\n",
       "      <td>...</td>\n",
       "      <td>...</td>\n",
       "      <td>...</td>\n",
       "      <td>...</td>\n",
       "      <td>...</td>\n",
       "      <td>...</td>\n",
       "      <td>...</td>\n",
       "      <td>...</td>\n",
       "      <td>...</td>\n",
       "      <td>...</td>\n",
       "      <td>...</td>\n",
       "      <td>...</td>\n",
       "      <td>...</td>\n",
       "      <td>...</td>\n",
       "      <td>...</td>\n",
       "    </tr>\n",
       "    <tr>\n",
       "      <th>995</th>\n",
       "      <td>3464</td>\n",
       "      <td>65</td>\n",
       "      <td>1</td>\n",
       "      <td>2</td>\n",
       "      <td>1</td>\n",
       "      <td>25.000000</td>\n",
       "      <td>1.0</td>\n",
       "      <td>1.0</td>\n",
       "      <td>2.0</td>\n",
       "      <td>1.0</td>\n",
       "      <td>...</td>\n",
       "      <td>0</td>\n",
       "      <td>2.0</td>\n",
       "      <td>1.0</td>\n",
       "      <td>0.0</td>\n",
       "      <td>18.037229</td>\n",
       "      <td>0.0</td>\n",
       "      <td>0.0</td>\n",
       "      <td>2006</td>\n",
       "      <td>12</td>\n",
       "      <td>22</td>\n",
       "    </tr>\n",
       "    <tr>\n",
       "      <th>996</th>\n",
       "      <td>3482</td>\n",
       "      <td>48</td>\n",
       "      <td>1</td>\n",
       "      <td>1</td>\n",
       "      <td>1</td>\n",
       "      <td>7.000000</td>\n",
       "      <td>1.0</td>\n",
       "      <td>1.0</td>\n",
       "      <td>1.0</td>\n",
       "      <td>1.0</td>\n",
       "      <td>...</td>\n",
       "      <td>0</td>\n",
       "      <td>1.0</td>\n",
       "      <td>1.0</td>\n",
       "      <td>1.0</td>\n",
       "      <td>18.037229</td>\n",
       "      <td>0.0</td>\n",
       "      <td>0.0</td>\n",
       "      <td>2006</td>\n",
       "      <td>11</td>\n",
       "      <td>17</td>\n",
       "    </tr>\n",
       "    <tr>\n",
       "      <th>997</th>\n",
       "      <td>3485</td>\n",
       "      <td>64</td>\n",
       "      <td>1</td>\n",
       "      <td>2</td>\n",
       "      <td>1</td>\n",
       "      <td>15.000000</td>\n",
       "      <td>1.0</td>\n",
       "      <td>1.0</td>\n",
       "      <td>2.0</td>\n",
       "      <td>1.0</td>\n",
       "      <td>...</td>\n",
       "      <td>0</td>\n",
       "      <td>1.0</td>\n",
       "      <td>1.0</td>\n",
       "      <td>1.0</td>\n",
       "      <td>18.037229</td>\n",
       "      <td>0.0</td>\n",
       "      <td>0.0</td>\n",
       "      <td>2006</td>\n",
       "      <td>11</td>\n",
       "      <td>10</td>\n",
       "    </tr>\n",
       "    <tr>\n",
       "      <th>998</th>\n",
       "      <td>3502</td>\n",
       "      <td>50</td>\n",
       "      <td>1</td>\n",
       "      <td>1</td>\n",
       "      <td>1</td>\n",
       "      <td>7.000000</td>\n",
       "      <td>1.0</td>\n",
       "      <td>1.0</td>\n",
       "      <td>1.0</td>\n",
       "      <td>2.0</td>\n",
       "      <td>...</td>\n",
       "      <td>0</td>\n",
       "      <td>1.0</td>\n",
       "      <td>0.0</td>\n",
       "      <td>0.0</td>\n",
       "      <td>18.037229</td>\n",
       "      <td>0.0</td>\n",
       "      <td>0.0</td>\n",
       "      <td>2006</td>\n",
       "      <td>9</td>\n",
       "      <td>22</td>\n",
       "    </tr>\n",
       "    <tr>\n",
       "      <th>999</th>\n",
       "      <td>3518</td>\n",
       "      <td>76</td>\n",
       "      <td>1</td>\n",
       "      <td>2</td>\n",
       "      <td>1</td>\n",
       "      <td>20.000000</td>\n",
       "      <td>3.0</td>\n",
       "      <td>3.0</td>\n",
       "      <td>2.0</td>\n",
       "      <td>3.0</td>\n",
       "      <td>...</td>\n",
       "      <td>0</td>\n",
       "      <td>1.0</td>\n",
       "      <td>1.0</td>\n",
       "      <td>0.0</td>\n",
       "      <td>18.037229</td>\n",
       "      <td>0.0</td>\n",
       "      <td>1.0</td>\n",
       "      <td>2010</td>\n",
       "      <td>9</td>\n",
       "      <td>1</td>\n",
       "    </tr>\n",
       "  </tbody>\n",
       "</table>\n",
       "<p>1000 rows × 21 columns</p>\n",
       "</div>\n",
       "      <button class=\"colab-df-convert\" onclick=\"convertToInteractive('df-fcd9c06a-e732-47fc-80c4-e63319e74e4d')\"\n",
       "              title=\"Convert this dataframe to an interactive table.\"\n",
       "              style=\"display:none;\">\n",
       "        \n",
       "  <svg xmlns=\"http://www.w3.org/2000/svg\" height=\"24px\"viewBox=\"0 0 24 24\"\n",
       "       width=\"24px\">\n",
       "    <path d=\"M0 0h24v24H0V0z\" fill=\"none\"/>\n",
       "    <path d=\"M18.56 5.44l.94 2.06.94-2.06 2.06-.94-2.06-.94-.94-2.06-.94 2.06-2.06.94zm-11 1L8.5 8.5l.94-2.06 2.06-.94-2.06-.94L8.5 2.5l-.94 2.06-2.06.94zm10 10l.94 2.06.94-2.06 2.06-.94-2.06-.94-.94-2.06-.94 2.06-2.06.94z\"/><path d=\"M17.41 7.96l-1.37-1.37c-.4-.4-.92-.59-1.43-.59-.52 0-1.04.2-1.43.59L10.3 9.45l-7.72 7.72c-.78.78-.78 2.05 0 2.83L4 21.41c.39.39.9.59 1.41.59.51 0 1.02-.2 1.41-.59l7.78-7.78 2.81-2.81c.8-.78.8-2.07 0-2.86zM5.41 20L4 18.59l7.72-7.72 1.47 1.35L5.41 20z\"/>\n",
       "  </svg>\n",
       "      </button>\n",
       "      \n",
       "  <style>\n",
       "    .colab-df-container {\n",
       "      display:flex;\n",
       "      flex-wrap:wrap;\n",
       "      gap: 12px;\n",
       "    }\n",
       "\n",
       "    .colab-df-convert {\n",
       "      background-color: #E8F0FE;\n",
       "      border: none;\n",
       "      border-radius: 50%;\n",
       "      cursor: pointer;\n",
       "      display: none;\n",
       "      fill: #1967D2;\n",
       "      height: 32px;\n",
       "      padding: 0 0 0 0;\n",
       "      width: 32px;\n",
       "    }\n",
       "\n",
       "    .colab-df-convert:hover {\n",
       "      background-color: #E2EBFA;\n",
       "      box-shadow: 0px 1px 2px rgba(60, 64, 67, 0.3), 0px 1px 3px 1px rgba(60, 64, 67, 0.15);\n",
       "      fill: #174EA6;\n",
       "    }\n",
       "\n",
       "    [theme=dark] .colab-df-convert {\n",
       "      background-color: #3B4455;\n",
       "      fill: #D2E3FC;\n",
       "    }\n",
       "\n",
       "    [theme=dark] .colab-df-convert:hover {\n",
       "      background-color: #434B5C;\n",
       "      box-shadow: 0px 1px 3px 1px rgba(0, 0, 0, 0.15);\n",
       "      filter: drop-shadow(0px 1px 2px rgba(0, 0, 0, 0.3));\n",
       "      fill: #FFFFFF;\n",
       "    }\n",
       "  </style>\n",
       "\n",
       "      <script>\n",
       "        const buttonEl =\n",
       "          document.querySelector('#df-fcd9c06a-e732-47fc-80c4-e63319e74e4d button.colab-df-convert');\n",
       "        buttonEl.style.display =\n",
       "          google.colab.kernel.accessAllowed ? 'block' : 'none';\n",
       "\n",
       "        async function convertToInteractive(key) {\n",
       "          const element = document.querySelector('#df-fcd9c06a-e732-47fc-80c4-e63319e74e4d');\n",
       "          const dataTable =\n",
       "            await google.colab.kernel.invokeFunction('convertToInteractive',\n",
       "                                                     [key], {});\n",
       "          if (!dataTable) return;\n",
       "\n",
       "          const docLinkHtml = 'Like what you see? Visit the ' +\n",
       "            '<a target=\"_blank\" href=https://colab.research.google.com/notebooks/data_table.ipynb>data table notebook</a>'\n",
       "            + ' to learn more about interactive tables.';\n",
       "          element.innerHTML = '';\n",
       "          dataTable['output_type'] = 'display_data';\n",
       "          await google.colab.output.renderOutput(dataTable, element);\n",
       "          const docLink = document.createElement('div');\n",
       "          docLink.innerHTML = docLinkHtml;\n",
       "          element.appendChild(docLink);\n",
       "        }\n",
       "      </script>\n",
       "    </div>\n",
       "  </div>\n",
       "  "
      ],
      "text/plain": [
       "       ID  나이  진단명  암의 위치  암의 개수      암의 장경   NG   HG  HG_score_1  HG_score_2  \\\n",
       "0       1  63    1      2      1  19.000000  2.0  1.0         2.0         2.0   \n",
       "1       2  51    1      1      1  22.000000  3.0  3.0         3.0         3.0   \n",
       "2       3  37    1      2      1  18.375564  2.0  0.0         0.0         0.0   \n",
       "3       4  54    1      2      1   0.000000  3.0  3.0         3.0         3.0   \n",
       "4       5  57    1      2      1   8.000000  2.0  2.0         3.0         2.0   \n",
       "..    ...  ..  ...    ...    ...        ...  ...  ...         ...         ...   \n",
       "995  3464  65    1      2      1  25.000000  1.0  1.0         2.0         1.0   \n",
       "996  3482  48    1      1      1   7.000000  1.0  1.0         1.0         1.0   \n",
       "997  3485  64    1      2      1  15.000000  1.0  1.0         2.0         1.0   \n",
       "998  3502  50    1      1      1   7.000000  1.0  1.0         1.0         2.0   \n",
       "999  3518  76    1      2      1  20.000000  3.0  3.0         2.0         3.0   \n",
       "\n",
       "     ...  DCIS_or_LCIS_여부  T_category   ER   PR  KI-67_LI_percent  HER2  \\\n",
       "0    ...                2         1.0  1.0  1.0         12.000000   0.0   \n",
       "1    ...                0         2.0  0.0  0.0         70.000000   0.0   \n",
       "2    ...                1         0.0  1.0  1.0          7.000000   0.0   \n",
       "3    ...                1         0.0  0.0  0.0          1.000000   1.0   \n",
       "4    ...                2         1.0  1.0  0.0          8.000000   1.0   \n",
       "..   ...              ...         ...  ...  ...               ...   ...   \n",
       "995  ...                0         2.0  1.0  0.0         18.037229   0.0   \n",
       "996  ...                0         1.0  1.0  1.0         18.037229   0.0   \n",
       "997  ...                0         1.0  1.0  1.0         18.037229   0.0   \n",
       "998  ...                0         1.0  0.0  0.0         18.037229   0.0   \n",
       "999  ...                0         1.0  1.0  0.0         18.037229   0.0   \n",
       "\n",
       "     HER2_IHC     년   월   일  \n",
       "0         1.0  2015  10  23  \n",
       "1         0.0  2015  10  28  \n",
       "2         1.0  2015  10  29  \n",
       "3         3.0  2016   3   8  \n",
       "4         2.0  2015  10  30  \n",
       "..        ...   ...  ..  ..  \n",
       "995       0.0  2006  12  22  \n",
       "996       0.0  2006  11  17  \n",
       "997       0.0  2006  11  10  \n",
       "998       0.0  2006   9  22  \n",
       "999       1.0  2010   9   1  \n",
       "\n",
       "[1000 rows x 21 columns]"
      ]
     },
     "execution_count": 220,
     "metadata": {},
     "output_type": "execute_result"
    }
   ],
   "source": [
    "X"
   ]
  },
  {
   "cell_type": "code",
   "execution_count": 221,
   "metadata": {
    "colab": {
     "base_uri": "https://localhost:8080/"
    },
    "id": "qeaCC7Vtm6SY",
    "outputId": "50893da9-0589-406b-c1b0-8fd30f698316"
   },
   "outputs": [
    {
     "name": "stdout",
     "output_type": "stream",
     "text": [
      "<class 'pandas.core.frame.DataFrame'>\n",
      "RangeIndex: 1000 entries, 0 to 999\n",
      "Data columns (total 22 columns):\n",
      " #   Column            Non-Null Count  Dtype  \n",
      "---  ------            --------------  -----  \n",
      " 0   ID                1000 non-null   int64  \n",
      " 1   나이                1000 non-null   int64  \n",
      " 2   진단명               1000 non-null   int64  \n",
      " 3   암의 위치             1000 non-null   int64  \n",
      " 4   암의 개수             1000 non-null   int64  \n",
      " 5   암의 장경             1000 non-null   float64\n",
      " 6   NG                1000 non-null   float64\n",
      " 7   HG                1000 non-null   float64\n",
      " 8   HG_score_1        1000 non-null   float64\n",
      " 9   HG_score_2        1000 non-null   float64\n",
      " 10  HG_score_3        1000 non-null   float64\n",
      " 11  DCIS_or_LCIS_여부   1000 non-null   int64  \n",
      " 12  T_category        1000 non-null   float64\n",
      " 13  ER                1000 non-null   float64\n",
      " 14  PR                1000 non-null   float64\n",
      " 15  KI-67_LI_percent  1000 non-null   float64\n",
      " 16  HER2              1000 non-null   float64\n",
      " 17  HER2_IHC          1000 non-null   float64\n",
      " 18  N_category        1000 non-null   int64  \n",
      " 19  년                 1000 non-null   int64  \n",
      " 20  월                 1000 non-null   int64  \n",
      " 21  일                 1000 non-null   int64  \n",
      "dtypes: float64(12), int64(10)\n",
      "memory usage: 172.0 KB\n"
     ]
    }
   ],
   "source": [
    "data.info()"
   ]
  },
  {
   "cell_type": "code",
   "execution_count": 156,
   "metadata": {
    "id": "L5Y1B-qhm8_e"
   },
   "outputs": [],
   "source": [
    "import datetime"
   ]
  },
  {
   "cell_type": "code",
   "execution_count": null,
   "metadata": {
    "id": "zxgP37bXnelR"
   },
   "outputs": [],
   "source": []
  },
  {
   "cell_type": "code",
   "execution_count": null,
   "metadata": {
    "id": "FY9a6_jqneeJ"
   },
   "outputs": [],
   "source": []
  },
  {
   "cell_type": "code",
   "execution_count": 222,
   "metadata": {
    "id": "uVbQw5tN52Na"
   },
   "outputs": [],
   "source": [
    "x_train, x_val, y_train, y_val = train_test_split(X, y, test_size=.3, random_state =2022)"
   ]
  },
  {
   "cell_type": "code",
   "execution_count": 223,
   "metadata": {
    "id": "pgS7pIg255Ir"
   },
   "outputs": [],
   "source": [
    "# 모델 선언\n",
    "model = XGBClassifier(n_estimators = 5,max_depth=3)"
   ]
  },
  {
   "cell_type": "code",
   "execution_count": 224,
   "metadata": {
    "colab": {
     "base_uri": "https://localhost:8080/"
    },
    "id": "VExL9UNu6FzC",
    "outputId": "d1a87e12-c6bc-4639-e27a-cc939b091bea"
   },
   "outputs": [
    {
     "data": {
      "text/plain": [
       "XGBClassifier(n_estimators=5)"
      ]
     },
     "execution_count": 224,
     "metadata": {},
     "output_type": "execute_result"
    }
   ],
   "source": [
    "model.fit(x_train,y_train)"
   ]
  },
  {
   "cell_type": "code",
   "execution_count": 225,
   "metadata": {
    "id": "b8C4YSb36H7B"
   },
   "outputs": [],
   "source": [
    "pred = model.predict(x_val)"
   ]
  },
  {
   "cell_type": "code",
   "execution_count": 226,
   "metadata": {
    "colab": {
     "base_uri": "https://localhost:8080/"
    },
    "id": "Wz4xxJ2j6Ju1",
    "outputId": "758cb2d2-ed99-44ad-b113-d42cbadb5080"
   },
   "outputs": [
    {
     "name": "stdout",
     "output_type": "stream",
     "text": [
      "              precision    recall  f1-score   support\n",
      "\n",
      "           0       0.82      0.94      0.87       154\n",
      "           1       0.92      0.78      0.84       146\n",
      "\n",
      "    accuracy                           0.86       300\n",
      "   macro avg       0.87      0.86      0.86       300\n",
      "weighted avg       0.87      0.86      0.86       300\n",
      "\n"
     ]
    }
   ],
   "source": [
    "# 평가\n",
    "print(classification_report(y_val, pred))"
   ]
  },
  {
   "cell_type": "code",
   "execution_count": 90,
   "metadata": {
    "id": "ZxbWe4Lx6K6m"
   },
   "outputs": [],
   "source": [
    "from sklearn.model_selection import RandomizedSearchCV, GridSearchCV"
   ]
  },
  {
   "cell_type": "code",
   "execution_count": 309,
   "metadata": {
    "id": "Fu1uNRMN6UNV"
   },
   "outputs": [],
   "source": [
    "parmas={'max_depth':[2,3,4,5,6],'n_estimators':[70,75,80,85,90],'learning_rate':[0.05,0.1,0.2]}"
   ]
  },
  {
   "cell_type": "code",
   "execution_count": 310,
   "metadata": {
    "colab": {
     "base_uri": "https://localhost:8080/"
    },
    "id": "Go2K08XJ6a73",
    "outputId": "75a2405c-02d2-4e65-eaa2-7aa246ec8620"
   },
   "outputs": [
    {
     "data": {
      "text/plain": [
       "GridSearchCV(estimator=XGBClassifier(),\n",
       "             param_grid={'learning_rate': [0.05, 0.1, 0.2],\n",
       "                         'max_depth': [2, 3, 4, 5, 6],\n",
       "                         'n_estimators': [70, 75, 80, 85, 90]})"
      ]
     },
     "execution_count": 310,
     "metadata": {},
     "output_type": "execute_result"
    }
   ],
   "source": [
    "model=XGBClassifier()\n",
    "model_gs=GridSearchCV(model,parmas)\n",
    "model_gs.fit(x_train,y_train)"
   ]
  },
  {
   "cell_type": "code",
   "execution_count": 311,
   "metadata": {
    "colab": {
     "base_uri": "https://localhost:8080/"
    },
    "id": "4VX1N8Td6e3U",
    "outputId": "fdf66c49-0e9f-43a4-def4-e90a986bce77"
   },
   "outputs": [
    {
     "name": "stdout",
     "output_type": "stream",
     "text": [
      "              precision    recall  f1-score   support\n",
      "\n",
      "           0       0.82      0.92      0.87       154\n",
      "           1       0.90      0.79      0.84       146\n",
      "\n",
      "    accuracy                           0.86       300\n",
      "   macro avg       0.86      0.86      0.86       300\n",
      "weighted avg       0.86      0.86      0.86       300\n",
      "\n"
     ]
    }
   ],
   "source": [
    "pred=model_gs.predict(x_val)\n",
    "print(classification_report(y_val,pred))"
   ]
  },
  {
   "cell_type": "code",
   "execution_count": 312,
   "metadata": {
    "colab": {
     "base_uri": "https://localhost:8080/"
    },
    "id": "Xag0pvpE6s4k",
    "outputId": "e34039cb-db2c-431a-a5c4-04bc17315c85"
   },
   "outputs": [
    {
     "data": {
      "text/plain": [
       "{'learning_rate': 0.05, 'max_depth': 3, 'n_estimators': 75}"
      ]
     },
     "execution_count": 312,
     "metadata": {},
     "output_type": "execute_result"
    }
   ],
   "source": [
    "model_gs.best_params_"
   ]
  },
  {
   "cell_type": "code",
   "execution_count": 327,
   "metadata": {
    "id": "DFoUfUE4-8uq"
   },
   "outputs": [],
   "source": [
    "test=pd.read_csv(\"/content/drive/MyDrive/Project/유방암/Data/test.csv\")"
   ]
  },
  {
   "cell_type": "code",
   "execution_count": 314,
   "metadata": {
    "id": "i6aFGiIYlzwg"
   },
   "outputs": [],
   "source": [
    "test[\"암의 장경\"].fillna(test[\"암의 장경\"].mean(),inplace=True)"
   ]
  },
  {
   "cell_type": "code",
   "execution_count": 315,
   "metadata": {
    "id": "RJy12zRZlztX"
   },
   "outputs": [],
   "source": [
    "test.NG.fillna(0,inplace=True)"
   ]
  },
  {
   "cell_type": "code",
   "execution_count": 316,
   "metadata": {
    "colab": {
     "base_uri": "https://localhost:8080/"
    },
    "id": "3O3y6rELpUTC",
    "outputId": "5d905abb-a28d-4df8-fde7-4b81f24f5222"
   },
   "outputs": [
    {
     "name": "stderr",
     "output_type": "stream",
     "text": [
      "<ipython-input-316-9e79fc77bb26>:6: SettingWithCopyWarning: \n",
      "A value is trying to be set on a copy of a slice from a DataFrame\n",
      "\n",
      "See the caveats in the documentation: https://pandas.pydata.org/pandas-docs/stable/user_guide/indexing.html#returning-a-view-versus-a-copy\n",
      "  test[\"년\"][i]=test[\"수술연월일\"][i].year\n",
      "<ipython-input-316-9e79fc77bb26>:7: SettingWithCopyWarning: \n",
      "A value is trying to be set on a copy of a slice from a DataFrame\n",
      "\n",
      "See the caveats in the documentation: https://pandas.pydata.org/pandas-docs/stable/user_guide/indexing.html#returning-a-view-versus-a-copy\n",
      "  test[\"월\"][i]=test[\"수술연월일\"][i].month\n",
      "<ipython-input-316-9e79fc77bb26>:8: SettingWithCopyWarning: \n",
      "A value is trying to be set on a copy of a slice from a DataFrame\n",
      "\n",
      "See the caveats in the documentation: https://pandas.pydata.org/pandas-docs/stable/user_guide/indexing.html#returning-a-view-versus-a-copy\n",
      "  test[\"일\"][i]=test[\"수술연월일\"][i].day\n"
     ]
    }
   ],
   "source": [
    "test[\"수술연월일\"]=pd.to_datetime(test[\"수술연월일\"])\n",
    "test[\"년\"]=0\n",
    "test[\"월\"]=0\n",
    "test[\"일\"]=0\n",
    "for i in range(len(test)):\n",
    "  test[\"년\"][i]=test[\"수술연월일\"][i].year\n",
    "  test[\"월\"][i]=test[\"수술연월일\"][i].month\n",
    "  test[\"일\"][i]=test[\"수술연월일\"][i].day"
   ]
  },
  {
   "cell_type": "code",
   "execution_count": 317,
   "metadata": {
    "id": "yweQxqH4lzlE"
   },
   "outputs": [],
   "source": [
    "test.drop([\"DCIS_or_LCIS_type\",\"BRCA_mutation\",\"HER2_SISH_ratio\",\"HER2_SISH\",\"ER_Allred_score\",\"PR_Allred_score\",\"img_path\",\"수술연월일\"],axis=1,inplace=True)"
   ]
  },
  {
   "cell_type": "code",
   "execution_count": 318,
   "metadata": {
    "id": "uTqwz938l_M4"
   },
   "outputs": [],
   "source": [
    "test[\"KI-67_LI_percent\"].fillna(test[\"KI-67_LI_percent\"].mean(),inplace=True)"
   ]
  },
  {
   "cell_type": "code",
   "execution_count": 319,
   "metadata": {
    "id": "2-MYwQMcl_Kj"
   },
   "outputs": [],
   "source": [
    "test.fillna(0,inplace=True)"
   ]
  },
  {
   "cell_type": "code",
   "execution_count": 320,
   "metadata": {
    "colab": {
     "base_uri": "https://localhost:8080/"
    },
    "id": "lWqLUXLmpoJt",
    "outputId": "34f19a61-a47d-4939-d55c-a2dfadb4513e"
   },
   "outputs": [
    {
     "name": "stderr",
     "output_type": "stream",
     "text": [
      "<ipython-input-320-c55d1f92de9a>:2: SettingWithCopyWarning: \n",
      "A value is trying to be set on a copy of a slice from a DataFrame\n",
      "\n",
      "See the caveats in the documentation: https://pandas.pydata.org/pandas-docs/stable/user_guide/indexing.html#returning-a-view-versus-a-copy\n",
      "  test[\"ID\"][i]=int(test[\"ID\"][i].split(\"_\")[2])\n"
     ]
    }
   ],
   "source": [
    "for i in range(len(test)):\n",
    "  test[\"ID\"][i]=int(test[\"ID\"][i].split(\"_\")[2])"
   ]
  },
  {
   "cell_type": "code",
   "execution_count": 322,
   "metadata": {
    "id": "d9fAITgFCAwy"
   },
   "outputs": [],
   "source": [
    "test=test.fillna(0)"
   ]
  },
  {
   "cell_type": "code",
   "execution_count": 239,
   "metadata": {
    "id": "7VcldPomCCR3"
   },
   "outputs": [],
   "source": [
    "#test=pd.get_dummies(test)"
   ]
  },
  {
   "cell_type": "code",
   "execution_count": 323,
   "metadata": {
    "id": "N7d3VHPBCHWG"
   },
   "outputs": [],
   "source": [
    "result=model_gs.predict(test)"
   ]
  },
  {
   "cell_type": "code",
   "execution_count": 324,
   "metadata": {
    "id": "wFGF-KQnCKKl"
   },
   "outputs": [],
   "source": [
    "result=pd.DataFrame(result)"
   ]
  },
  {
   "cell_type": "code",
   "execution_count": 325,
   "metadata": {
    "id": "Ub8qNBqtqNzE"
   },
   "outputs": [],
   "source": [
    "result[\"ID\"]=0"
   ]
  },
  {
   "cell_type": "code",
   "execution_count": 326,
   "metadata": {
    "colab": {
     "base_uri": "https://localhost:8080/"
    },
    "id": "cFSGrOXzqb65",
    "outputId": "398c7ed7-8bf1-423f-c095-a0ce07f0b9ba"
   },
   "outputs": [
    {
     "data": {
      "text/plain": [
       "0        11\n",
       "1       220\n",
       "2       233\n",
       "3       258\n",
       "4       260\n",
       "       ... \n",
       "245    3328\n",
       "246    3404\n",
       "247    3418\n",
       "248    3438\n",
       "249    3446\n",
       "Name: ID, Length: 250, dtype: int64"
      ]
     },
     "execution_count": 326,
     "metadata": {},
     "output_type": "execute_result"
    }
   ],
   "source": [
    "test[\"ID\"]"
   ]
  },
  {
   "cell_type": "code",
   "execution_count": 328,
   "metadata": {
    "id": "MqakZE74p85B"
   },
   "outputs": [],
   "source": [
    "result[\"ID\"]=test[\"ID\"]"
   ]
  },
  {
   "cell_type": "code",
   "execution_count": 329,
   "metadata": {
    "id": "DrBhOERdqIbL"
   },
   "outputs": [],
   "source": [
    "result=result[[\"ID\",0]]"
   ]
  },
  {
   "cell_type": "code",
   "execution_count": 330,
   "metadata": {
    "id": "9hC1RmN4qRTn"
   },
   "outputs": [],
   "source": [
    "result=result.rename(columns={0:\"N_category\"})"
   ]
  },
  {
   "cell_type": "code",
   "execution_count": 331,
   "metadata": {
    "colab": {
     "base_uri": "https://localhost:8080/",
     "height": 424
    },
    "id": "mBwbSbPKrkHO",
    "outputId": "2e03d0c5-968b-4d87-f633-a2aad88eabab"
   },
   "outputs": [
    {
     "data": {
      "text/html": [
       "\n",
       "  <div id=\"df-bf6d0f24-5c1a-41a2-a396-0e3a133ee6f5\">\n",
       "    <div class=\"colab-df-container\">\n",
       "      <div>\n",
       "<style scoped>\n",
       "    .dataframe tbody tr th:only-of-type {\n",
       "        vertical-align: middle;\n",
       "    }\n",
       "\n",
       "    .dataframe tbody tr th {\n",
       "        vertical-align: top;\n",
       "    }\n",
       "\n",
       "    .dataframe thead th {\n",
       "        text-align: right;\n",
       "    }\n",
       "</style>\n",
       "<table border=\"1\" class=\"dataframe\">\n",
       "  <thead>\n",
       "    <tr style=\"text-align: right;\">\n",
       "      <th></th>\n",
       "      <th>ID</th>\n",
       "      <th>N_category</th>\n",
       "    </tr>\n",
       "  </thead>\n",
       "  <tbody>\n",
       "    <tr>\n",
       "      <th>0</th>\n",
       "      <td>BC_01_0011</td>\n",
       "      <td>1</td>\n",
       "    </tr>\n",
       "    <tr>\n",
       "      <th>1</th>\n",
       "      <td>BC_01_0220</td>\n",
       "      <td>0</td>\n",
       "    </tr>\n",
       "    <tr>\n",
       "      <th>2</th>\n",
       "      <td>BC_01_0233</td>\n",
       "      <td>0</td>\n",
       "    </tr>\n",
       "    <tr>\n",
       "      <th>3</th>\n",
       "      <td>BC_01_0258</td>\n",
       "      <td>0</td>\n",
       "    </tr>\n",
       "    <tr>\n",
       "      <th>4</th>\n",
       "      <td>BC_01_0260</td>\n",
       "      <td>1</td>\n",
       "    </tr>\n",
       "    <tr>\n",
       "      <th>...</th>\n",
       "      <td>...</td>\n",
       "      <td>...</td>\n",
       "    </tr>\n",
       "    <tr>\n",
       "      <th>245</th>\n",
       "      <td>BC_01_3328</td>\n",
       "      <td>1</td>\n",
       "    </tr>\n",
       "    <tr>\n",
       "      <th>246</th>\n",
       "      <td>BC_01_3404</td>\n",
       "      <td>1</td>\n",
       "    </tr>\n",
       "    <tr>\n",
       "      <th>247</th>\n",
       "      <td>BC_01_3418</td>\n",
       "      <td>0</td>\n",
       "    </tr>\n",
       "    <tr>\n",
       "      <th>248</th>\n",
       "      <td>BC_01_3438</td>\n",
       "      <td>0</td>\n",
       "    </tr>\n",
       "    <tr>\n",
       "      <th>249</th>\n",
       "      <td>BC_01_3446</td>\n",
       "      <td>0</td>\n",
       "    </tr>\n",
       "  </tbody>\n",
       "</table>\n",
       "<p>250 rows × 2 columns</p>\n",
       "</div>\n",
       "      <button class=\"colab-df-convert\" onclick=\"convertToInteractive('df-bf6d0f24-5c1a-41a2-a396-0e3a133ee6f5')\"\n",
       "              title=\"Convert this dataframe to an interactive table.\"\n",
       "              style=\"display:none;\">\n",
       "        \n",
       "  <svg xmlns=\"http://www.w3.org/2000/svg\" height=\"24px\"viewBox=\"0 0 24 24\"\n",
       "       width=\"24px\">\n",
       "    <path d=\"M0 0h24v24H0V0z\" fill=\"none\"/>\n",
       "    <path d=\"M18.56 5.44l.94 2.06.94-2.06 2.06-.94-2.06-.94-.94-2.06-.94 2.06-2.06.94zm-11 1L8.5 8.5l.94-2.06 2.06-.94-2.06-.94L8.5 2.5l-.94 2.06-2.06.94zm10 10l.94 2.06.94-2.06 2.06-.94-2.06-.94-.94-2.06-.94 2.06-2.06.94z\"/><path d=\"M17.41 7.96l-1.37-1.37c-.4-.4-.92-.59-1.43-.59-.52 0-1.04.2-1.43.59L10.3 9.45l-7.72 7.72c-.78.78-.78 2.05 0 2.83L4 21.41c.39.39.9.59 1.41.59.51 0 1.02-.2 1.41-.59l7.78-7.78 2.81-2.81c.8-.78.8-2.07 0-2.86zM5.41 20L4 18.59l7.72-7.72 1.47 1.35L5.41 20z\"/>\n",
       "  </svg>\n",
       "      </button>\n",
       "      \n",
       "  <style>\n",
       "    .colab-df-container {\n",
       "      display:flex;\n",
       "      flex-wrap:wrap;\n",
       "      gap: 12px;\n",
       "    }\n",
       "\n",
       "    .colab-df-convert {\n",
       "      background-color: #E8F0FE;\n",
       "      border: none;\n",
       "      border-radius: 50%;\n",
       "      cursor: pointer;\n",
       "      display: none;\n",
       "      fill: #1967D2;\n",
       "      height: 32px;\n",
       "      padding: 0 0 0 0;\n",
       "      width: 32px;\n",
       "    }\n",
       "\n",
       "    .colab-df-convert:hover {\n",
       "      background-color: #E2EBFA;\n",
       "      box-shadow: 0px 1px 2px rgba(60, 64, 67, 0.3), 0px 1px 3px 1px rgba(60, 64, 67, 0.15);\n",
       "      fill: #174EA6;\n",
       "    }\n",
       "\n",
       "    [theme=dark] .colab-df-convert {\n",
       "      background-color: #3B4455;\n",
       "      fill: #D2E3FC;\n",
       "    }\n",
       "\n",
       "    [theme=dark] .colab-df-convert:hover {\n",
       "      background-color: #434B5C;\n",
       "      box-shadow: 0px 1px 3px 1px rgba(0, 0, 0, 0.15);\n",
       "      filter: drop-shadow(0px 1px 2px rgba(0, 0, 0, 0.3));\n",
       "      fill: #FFFFFF;\n",
       "    }\n",
       "  </style>\n",
       "\n",
       "      <script>\n",
       "        const buttonEl =\n",
       "          document.querySelector('#df-bf6d0f24-5c1a-41a2-a396-0e3a133ee6f5 button.colab-df-convert');\n",
       "        buttonEl.style.display =\n",
       "          google.colab.kernel.accessAllowed ? 'block' : 'none';\n",
       "\n",
       "        async function convertToInteractive(key) {\n",
       "          const element = document.querySelector('#df-bf6d0f24-5c1a-41a2-a396-0e3a133ee6f5');\n",
       "          const dataTable =\n",
       "            await google.colab.kernel.invokeFunction('convertToInteractive',\n",
       "                                                     [key], {});\n",
       "          if (!dataTable) return;\n",
       "\n",
       "          const docLinkHtml = 'Like what you see? Visit the ' +\n",
       "            '<a target=\"_blank\" href=https://colab.research.google.com/notebooks/data_table.ipynb>data table notebook</a>'\n",
       "            + ' to learn more about interactive tables.';\n",
       "          element.innerHTML = '';\n",
       "          dataTable['output_type'] = 'display_data';\n",
       "          await google.colab.output.renderOutput(dataTable, element);\n",
       "          const docLink = document.createElement('div');\n",
       "          docLink.innerHTML = docLinkHtml;\n",
       "          element.appendChild(docLink);\n",
       "        }\n",
       "      </script>\n",
       "    </div>\n",
       "  </div>\n",
       "  "
      ],
      "text/plain": [
       "             ID  N_category\n",
       "0    BC_01_0011           1\n",
       "1    BC_01_0220           0\n",
       "2    BC_01_0233           0\n",
       "3    BC_01_0258           0\n",
       "4    BC_01_0260           1\n",
       "..          ...         ...\n",
       "245  BC_01_3328           1\n",
       "246  BC_01_3404           1\n",
       "247  BC_01_3418           0\n",
       "248  BC_01_3438           0\n",
       "249  BC_01_3446           0\n",
       "\n",
       "[250 rows x 2 columns]"
      ]
     },
     "execution_count": 331,
     "metadata": {},
     "output_type": "execute_result"
    }
   ],
   "source": [
    "result"
   ]
  },
  {
   "cell_type": "code",
   "execution_count": 332,
   "metadata": {
    "id": "Um_wcAIkqvkl"
   },
   "outputs": [],
   "source": [
    "result.to_csv(\"result.csv\",index=False)"
   ]
  },
  {
   "cell_type": "code",
   "execution_count": null,
   "metadata": {
    "id": "YH9NUFL6q13N"
   },
   "outputs": [],
   "source": []
  },
  {
   "cell_type": "code",
   "execution_count": 26,
   "metadata": {},
   "outputs": [],
   "source": [
    "import cv2\n",
    "import matplotlib.pyplot as plt"
   ]
  },
  {
   "cell_type": "code",
   "execution_count": 5,
   "metadata": {},
   "outputs": [],
   "source": [
    "from PIL import Image\n",
    "import numpy as np"
   ]
  },
  {
   "cell_type": "code",
   "execution_count": 99,
   "metadata": {},
   "outputs": [],
   "source": [
    "image=cv2.imread(\"data\"+data.img_path[0].split(\".\")[1]+\".png\",cv2.IMREAD_GRAYSCALE)"
   ]
  },
  {
   "cell_type": "code",
   "execution_count": 101,
   "metadata": {},
   "outputs": [],
   "source": [
    "image=image[:3000,:3000]"
   ]
  },
  {
   "cell_type": "code",
   "execution_count": 102,
   "metadata": {},
   "outputs": [
    {
     "data": {
      "text/plain": [
       "<matplotlib.image.AxesImage at 0x1809add3e50>"
      ]
     },
     "execution_count": 102,
     "metadata": {},
     "output_type": "execute_result"
    },
    {
     "data": {
      "image/png": "[encoded data removed]",
      "text/plain": [
       "<Figure size 432x288 with 1 Axes>"
      ]
     },
     "metadata": {
      "needs_background": "light"
     },
     "output_type": "display_data"
    }
   ],
   "source": [
    "plt.imshow(image)"
   ]
  },
  {
   "cell_type": "code",
   "execution_count": 107,
   "metadata": {},
   "outputs": [],
   "source": [
    "image_df=pd.DataFrame(image.flatten()).transpose()"
   ]
  },
  {
   "cell_type": "code",
   "execution_count": 108,
   "metadata": {},
   "outputs": [
    {
     "data": {
      "text/html": [
       "<div>\n",
       "<style scoped>\n",
       "    .dataframe tbody tr th:only-of-type {\n",
       "        vertical-align: middle;\n",
       "    }\n",
       "\n",
       "    .dataframe tbody tr th {\n",
       "        vertical-align: top;\n",
       "    }\n",
       "\n",
       "    .dataframe thead th {\n",
       "        text-align: right;\n",
       "    }\n",
       "</style>\n",
       "<table border=\"1\" class=\"dataframe\">\n",
       "  <thead>\n",
       "    <tr style=\"text-align: right;\">\n",
       "      <th></th>\n",
       "      <th>0</th>\n",
       "      <th>1</th>\n",
       "      <th>2</th>\n",
       "      <th>3</th>\n",
       "      <th>4</th>\n",
       "      <th>5</th>\n",
       "      <th>6</th>\n",
       "      <th>7</th>\n",
       "      <th>8</th>\n",
       "      <th>9</th>\n",
       "      <th>...</th>\n",
       "      <th>8999990</th>\n",
       "      <th>8999991</th>\n",
       "      <th>8999992</th>\n",
       "      <th>8999993</th>\n",
       "      <th>8999994</th>\n",
       "      <th>8999995</th>\n",
       "      <th>8999996</th>\n",
       "      <th>8999997</th>\n",
       "      <th>8999998</th>\n",
       "      <th>8999999</th>\n",
       "    </tr>\n",
       "  </thead>\n",
       "  <tbody>\n",
       "    <tr>\n",
       "      <th>0</th>\n",
       "      <td>244</td>\n",
       "      <td>244</td>\n",
       "      <td>244</td>\n",
       "      <td>244</td>\n",
       "      <td>244</td>\n",
       "      <td>244</td>\n",
       "      <td>244</td>\n",
       "      <td>244</td>\n",
       "      <td>244</td>\n",
       "      <td>244</td>\n",
       "      <td>...</td>\n",
       "      <td>241</td>\n",
       "      <td>240</td>\n",
       "      <td>240</td>\n",
       "      <td>241</td>\n",
       "      <td>240</td>\n",
       "      <td>242</td>\n",
       "      <td>241</td>\n",
       "      <td>241</td>\n",
       "      <td>241</td>\n",
       "      <td>241</td>\n",
       "    </tr>\n",
       "  </tbody>\n",
       "</table>\n",
       "<p>1 rows × 9000000 columns</p>\n",
       "</div>"
      ],
      "text/plain": [
       "   0        1        2        3        4        5        6        7        \\\n",
       "0      244      244      244      244      244      244      244      244   \n",
       "\n",
       "   8        9        ...  8999990  8999991  8999992  8999993  8999994  \\\n",
       "0      244      244  ...      241      240      240      241      240   \n",
       "\n",
       "   8999995  8999996  8999997  8999998  8999999  \n",
       "0      242      241      241      241      241  \n",
       "\n",
       "[1 rows x 9000000 columns]"
      ]
     },
     "execution_count": 108,
     "metadata": {},
     "output_type": "execute_result"
    }
   ],
   "source": [
    "image_df"
   ]
  },
  {
   "cell_type": "code",
   "execution_count": null,
   "metadata": {},
   "outputs": [],
   "source": []
  },
  {
   "cell_type": "code",
   "execution_count": null,
   "metadata": {},
   "outputs": [],
   "source": []
  },
  {
   "cell_type": "code",
   "execution_count": null,
   "metadata": {},
   "outputs": [],
   "source": []
  },
  {
   "cell_type": "code",
   "execution_count": null,
   "metadata": {},
   "outputs": [],
   "source": []
  },
  {
   "cell_type": "code",
   "execution_count": null,
   "metadata": {},
   "outputs": [],
   "source": []
  },
  {
   "cell_type": "code",
   "execution_count": null,
   "metadata": {},
   "outputs": [],
   "source": []
  },
  {
   "cell_type": "code",
   "execution_count": null,
   "metadata": {},
   "outputs": [],
   "source": []
  }
 ],
 "metadata": {
  "colab": {
   "provenance": []
  },
  "kernelspec": {
   "display_name": "Python 3",
   "language": "python",
   "name": "python3"
  },
  "language_info": {
   "codemirror_mode": {
    "name": "ipython",
    "version": 3
   },
   "file_extension": ".py",
   "mimetype": "text/x-python",
   "name": "python",
   "nbconvert_exporter": "python",
   "pygments_lexer": "ipython3",
   "version": "3.8.8"
  }
 },
 "nbformat": 4,
 "nbformat_minor": 1
}
